{
 "cells": [
  {
   "cell_type": "code",
   "execution_count": 7,
   "metadata": {},
   "outputs": [
    {
     "name": "stdout",
     "output_type": "stream",
     "text": [
      "图片已保存至: output.png\n",
      "处理后尺寸: (32, 32, 3)\n"
     ]
    }
   ],
   "source": [
    "import cv2\n",
    "import numpy as np\n",
    "\n",
    "def resize_and_save_rgb_image(input_path, output_path, target_size=(16, 16)):\n",
    "    \"\"\"\n",
    "    将RGB图像调整为16x16并保存\n",
    "    \n",
    "    参数:\n",
    "        input_path (str): 输入图片路径\n",
    "        output_path (str): 输出图片路径\n",
    "        target_size (tuple): 目标尺寸，默认(16,16)\n",
    "    \"\"\"\n",
    "    # 读取图片（保持RGB通道）\n",
    "    img = cv2.imread(input_path, cv2.IMREAD_COLOR)  # 强制读取为3通道\n",
    "    \n",
    "    if img is None:\n",
    "        raise ValueError(f\"无法读取图片，请检查路径: {input_path}\")\n",
    "    \n",
    "    # 检查是否为RGB（某些图片可能是BGR格式）\n",
    "    if img.shape[2] != 3:\n",
    "        raise ValueError(\"输入图片必须是3通道(RGB/BGR)\")\n",
    "    \n",
    "    # 转换为RGB（OpenCV默认BGR）\n",
    "    img_rgb = cv2.cvtColor(img, cv2.COLOR_BGR2RGB)\n",
    "    \n",
    "    # 缩放至目标尺寸\n",
    "    resized_img = cv2.resize(img_rgb, target_size, interpolation=cv2.INTER_AREA)\n",
    "    \n",
    "    # 保存结果\n",
    "    # 方法1：保存为PNG（无损）\n",
    "    cv2.imwrite(output_path, cv2.cvtColor(resized_img, cv2.COLOR_RGB2BGR))\n",
    "    \n",
    "    # 方法2：保存为NPY文件（保留原始数据）\n",
    "    np.save(output_path.replace('.png', '.npy'), resized_img)\n",
    "    \n",
    "    print(f\"图片已保存至: {output_path}\")\n",
    "    print(f\"处理后尺寸: {resized_img.shape}\")  # 应为(16,16,3)\n",
    "\n",
    "# 使用示例\n",
    "input_image = \"/Users/jiawang/Documents/GitHub/Bi-JROS/690B2ACA-38E0-46BB-8FB0-0E096CAEF3DE_4_5005_c.jpeg\"    # 输入图片路径\n",
    "output_image = \"output.png\"  # 输出图片路径\n",
    "\n",
    "resize_and_save_rgb_image(input_image, output_image, target_size=(32, 32))"
   ]
  },
  {
   "cell_type": "code",
   "execution_count": null,
   "metadata": {},
   "outputs": [],
   "source": []
  }
 ],
 "metadata": {
  "language_info": {
   "name": "python"
  }
 },
 "nbformat": 4,
 "nbformat_minor": 2
}
